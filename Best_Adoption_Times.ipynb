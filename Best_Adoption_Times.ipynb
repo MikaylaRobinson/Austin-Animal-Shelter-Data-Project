{
 "cells": [
  {
   "cell_type": "code",
   "execution_count": 1,
   "metadata": {},
   "outputs": [],
   "source": [
    "import numpy as np\n",
    "import pandas as pd\n",
    "from pandas import DataFrame,Series\n",
    "import seaborn as sns"
   ]
  },
  {
   "cell_type": "code",
   "execution_count": 2,
   "metadata": {},
   "outputs": [],
   "source": [
    "shelterdframe = pd.read_csv('aac_intakes_outcomes.csv')"
   ]
  },
  {
   "cell_type": "code",
   "execution_count": 8,
   "metadata": {},
   "outputs": [],
   "source": [
    "adopted_pets = shelterdframe.loc[shelterdframe['outcome_type'] == 'Adoption']"
   ]
  },
  {
   "cell_type": "code",
   "execution_count": 14,
   "metadata": {},
   "outputs": [
    {
     "name": "stderr",
     "output_type": "stream",
     "text": [
      "/usr/local/lib/python3.7/site-packages/ipykernel_launcher.py:14: SettingWithCopyWarning: \n",
      "A value is trying to be set on a copy of a slice from a DataFrame.\n",
      "Try using .loc[row_indexer,col_indexer] = value instead\n",
      "\n",
      "See the caveats in the documentation: http://pandas.pydata.org/pandas-docs/stable/indexing.html#indexing-view-versus-copy\n",
      "  \n"
     ]
    }
   ],
   "source": [
    "months = {1:'January',\n",
    "          2:'February',\n",
    "          3:'March',\n",
    "          4:'April',\n",
    "         5:'May',\n",
    "         6:'June',\n",
    "         7:'July',\n",
    "         8:'August',\n",
    "         9:'September',\n",
    "         10:'October',\n",
    "         11:'November',\n",
    "         12:'December'}\n",
    "\n",
    "adopted_pets['Month']= adopted_pets['outcome_month'].map(months)\n"
   ]
  },
  {
   "cell_type": "code",
   "execution_count": 17,
   "metadata": {},
   "outputs": [
    {
     "data": {
      "text/plain": [
       "[Text(0, 0, 'January'),\n",
       " Text(0, 0, 'February'),\n",
       " Text(0, 0, 'March'),\n",
       " Text(0, 0, 'April'),\n",
       " Text(0, 0, 'May'),\n",
       " Text(0, 0, 'June'),\n",
       " Text(0, 0, 'July'),\n",
       " Text(0, 0, 'August'),\n",
       " Text(0, 0, 'September'),\n",
       " Text(0, 0, 'October'),\n",
       " Text(0, 0, 'November'),\n",
       " Text(0, 0, 'December')]"
      ]
     },
     "execution_count": 17,
     "metadata": {},
     "output_type": "execute_result"
    },
    {
     "data": {
      "image/png": "[encoded data removed]",
      "text/plain": [
       "<Figure size 432x288 with 1 Axes>"
      ]
     },
     "metadata": {
      "needs_background": "light"
     },
     "output_type": "display_data"
    }
   ],
   "source": [
    "adoption_per_month = sns.countplot('Month',data=adopted_pets,order=['January','February','March','April','May','June','July','August','September','October','November','December'])\n",
    "adoption_per_month.set_xticklabels(adoption_per_month.get_xticklabels(), rotation=40, ha=\"right\")"
   ]
  },
  {
   "cell_type": "markdown",
   "metadata": {},
   "source": [
    "For adoptions by month, we can see the peak of adoptions in July. It is interesting to see the pattern for adoptions compared to the total intake by months (visualization in Christmas_Analysis file). The peak of intake is in May/June followed by a spike in adoptions in July. "
   ]
  },
  {
   "cell_type": "code",
   "execution_count": null,
   "metadata": {},
   "outputs": [],
   "source": []
  }
 ],
 "metadata": {
  "kernelspec": {
   "display_name": "Python 3",
   "language": "python",
   "name": "python3"
  },
  "language_info": {
   "codemirror_mode": {
    "name": "ipython",
    "version": 3
   },
   "file_extension": ".py",
   "mimetype": "text/x-python",
   "name": "python",
   "nbconvert_exporter": "python",
   "pygments_lexer": "ipython3",
   "version": "3.7.0"
  }
 },
 "nbformat": 4,
 "nbformat_minor": 2
}
