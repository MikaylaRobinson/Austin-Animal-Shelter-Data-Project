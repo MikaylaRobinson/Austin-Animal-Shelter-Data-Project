{
 "cells": [
  {
   "cell_type": "markdown",
   "metadata": {},
   "source": [
    "I was interested in looking at the average age for each outcome. I assumed that younger animals would be more likely to be adopted. "
   ]
  },
  {
   "cell_type": "code",
   "execution_count": 1,
   "metadata": {},
   "outputs": [],
   "source": [
    "import numpy as np\n",
    "import pandas as pd\n",
    "from pandas import DataFrame\n",
    "import seaborn as sns"
   ]
  },
  {
   "cell_type": "code",
   "execution_count": 2,
   "metadata": {},
   "outputs": [],
   "source": [
    "shelterdframe = pd.read_csv('aac_intakes_outcomes.csv')"
   ]
  },
  {
   "cell_type": "code",
   "execution_count": 3,
   "metadata": {},
   "outputs": [],
   "source": [
    "ages = []\n",
    "for age in shelterdframe['age_upon_outcome_(days)']:\n",
    "    number = age/365\n",
    "    ages.append(number)\n",
    "\n",
    "\n",
    "shelterdframe['number_age_years']= ages"
   ]
  },
  {
   "cell_type": "code",
   "execution_count": 4,
   "metadata": {},
   "outputs": [],
   "source": [
    "avg_age_by_outcome = shelterdframe['number_age_years'].groupby(shelterdframe['outcome_type']).mean()"
   ]
  },
  {
   "cell_type": "code",
   "execution_count": 5,
   "metadata": {},
   "outputs": [
    {
     "data": {
      "text/plain": [
       "outcome_type\n",
       "Adoption           1.678934\n",
       "Died               1.490026\n",
       "Disposal           1.169656\n",
       "Euthanasia         2.505810\n",
       "Missing            1.624955\n",
       "Relocate           0.941553\n",
       "Return to Owner    3.949087\n",
       "Rto-Adopt          3.361904\n",
       "Transfer           1.603294\n",
       "Name: number_age_years, dtype: float64"
      ]
     },
     "execution_count": 5,
     "metadata": {},
     "output_type": "execute_result"
    }
   ],
   "source": [
    "avg_age_by_outcome"
   ]
  },
  {
   "cell_type": "markdown",
   "metadata": {},
   "source": [
    "From these averages, you can see the highest average age is seen in animals that are euthanized. This makes sense as animals are more prone to health complications with age. The lowest average age is seen in animals that were being relocated. It is interesting that adoption is similar or slightly higher than many other categories. There are many things that could lead to this type of result. It is possible that there would be many more adult dogs being taken into the shelter than puppies. This would then influence the average age making it higher. I think to really look into this question, I will need to separate the animals by age category(exp. puppy,adult) and then look at the distrubition of outcome types within each group. "
   ]
  },
  {
   "cell_type": "code",
   "execution_count": null,
   "metadata": {},
   "outputs": [],
   "source": []
  }
 ],
 "metadata": {
  "kernelspec": {
   "display_name": "Python 3",
   "language": "python",
   "name": "python3"
  },
  "language_info": {
   "codemirror_mode": {
    "name": "ipython",
    "version": 3
   },
   "file_extension": ".py",
   "mimetype": "text/x-python",
   "name": "python",
   "nbconvert_exporter": "python",
   "pygments_lexer": "ipython3",
   "version": "3.7.0"
  }
 },
 "nbformat": 4,
 "nbformat_minor": 2
}
